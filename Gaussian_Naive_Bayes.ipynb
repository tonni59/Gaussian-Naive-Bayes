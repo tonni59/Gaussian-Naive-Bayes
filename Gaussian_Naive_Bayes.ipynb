{
  "nbformat": 4,
  "nbformat_minor": 0,
  "metadata": {
    "colab": {
      "provenance": [],
      "mount_file_id": "1COX9I7OmtEJMH4-WZK_rON7Law4g8AHl",
      "authorship_tag": "ABX9TyOijP3EE4KQHXdmlE3iDlSZ",
      "include_colab_link": true
    },
    "kernelspec": {
      "name": "python3",
      "display_name": "Python 3"
    },
    "language_info": {
      "name": "python"
    }
  },
  "cells": [
    {
      "cell_type": "markdown",
      "metadata": {
        "id": "view-in-github",
        "colab_type": "text"
      },
      "source": [
        "<a href=\"https://colab.research.google.com/github/tonni59/Gaussian-Naive-Bayes/blob/main/Gaussian_Naive_Bayes.ipynb\" target=\"_parent\"><img src=\"https://colab.research.google.com/assets/colab-badge.svg\" alt=\"Open In Colab\"/></a>"
      ]
    },
    {
      "cell_type": "code",
      "execution_count": 14,
      "metadata": {
        "id": "2BzS6hET0Gly"
      },
      "outputs": [],
      "source": [
        "import numpy as np\n",
        "import matplotlib.pyplot as plt\n",
        "import pandas as pd"
      ]
    },
    {
      "cell_type": "markdown",
      "source": [
        "**Import Dataset**\n"
      ],
      "metadata": {
        "id": "t71GtAkT11nd"
      }
    },
    {
      "cell_type": "code",
      "source": [
        "url = \"https://archive.ics.uci.edu/ml/machine-learning-databases/iris/iris.data\""
      ],
      "metadata": {
        "id": "NB5bE5us153C"
      },
      "execution_count": 15,
      "outputs": []
    },
    {
      "cell_type": "code",
      "source": [
        "names2 = ['sepal-length','sepal-width' , 'petal-length' , 'petal-width', 'Class' ]\n"
      ],
      "metadata": {
        "id": "TWerdRkt2HLA"
      },
      "execution_count": 16,
      "outputs": []
    },
    {
      "cell_type": "code",
      "source": [
        "dataset = pd.read_csv(url,names=names2)\n",
        "dataset.head()"
      ],
      "metadata": {
        "colab": {
          "base_uri": "https://localhost:8080/",
          "height": 206
        },
        "id": "1wCRgNnECBV1",
        "outputId": "5b58bf7e-8dcd-4358-b9e5-57ddbd34a10a"
      },
      "execution_count": 17,
      "outputs": [
        {
          "output_type": "execute_result",
          "data": {
            "text/plain": [
              "   sepal-length  sepal-width  petal-length  petal-width        Class\n",
              "0           5.1          3.5           1.4          0.2  Iris-setosa\n",
              "1           4.9          3.0           1.4          0.2  Iris-setosa\n",
              "2           4.7          3.2           1.3          0.2  Iris-setosa\n",
              "3           4.6          3.1           1.5          0.2  Iris-setosa\n",
              "4           5.0          3.6           1.4          0.2  Iris-setosa"
            ],
            "text/html": [
              "\n",
              "  <div id=\"df-a44d5103-6e11-4156-bb15-fdf36ce138de\" class=\"colab-df-container\">\n",
              "    <div>\n",
              "<style scoped>\n",
              "    .dataframe tbody tr th:only-of-type {\n",
              "        vertical-align: middle;\n",
              "    }\n",
              "\n",
              "    .dataframe tbody tr th {\n",
              "        vertical-align: top;\n",
              "    }\n",
              "\n",
              "    .dataframe thead th {\n",
              "        text-align: right;\n",
              "    }\n",
              "</style>\n",
              "<table border=\"1\" class=\"dataframe\">\n",
              "  <thead>\n",
              "    <tr style=\"text-align: right;\">\n",
              "      <th></th>\n",
              "      <th>sepal-length</th>\n",
              "      <th>sepal-width</th>\n",
              "      <th>petal-length</th>\n",
              "      <th>petal-width</th>\n",
              "      <th>Class</th>\n",
              "    </tr>\n",
              "  </thead>\n",
              "  <tbody>\n",
              "    <tr>\n",
              "      <th>0</th>\n",
              "      <td>5.1</td>\n",
              "      <td>3.5</td>\n",
              "      <td>1.4</td>\n",
              "      <td>0.2</td>\n",
              "      <td>Iris-setosa</td>\n",
              "    </tr>\n",
              "    <tr>\n",
              "      <th>1</th>\n",
              "      <td>4.9</td>\n",
              "      <td>3.0</td>\n",
              "      <td>1.4</td>\n",
              "      <td>0.2</td>\n",
              "      <td>Iris-setosa</td>\n",
              "    </tr>\n",
              "    <tr>\n",
              "      <th>2</th>\n",
              "      <td>4.7</td>\n",
              "      <td>3.2</td>\n",
              "      <td>1.3</td>\n",
              "      <td>0.2</td>\n",
              "      <td>Iris-setosa</td>\n",
              "    </tr>\n",
              "    <tr>\n",
              "      <th>3</th>\n",
              "      <td>4.6</td>\n",
              "      <td>3.1</td>\n",
              "      <td>1.5</td>\n",
              "      <td>0.2</td>\n",
              "      <td>Iris-setosa</td>\n",
              "    </tr>\n",
              "    <tr>\n",
              "      <th>4</th>\n",
              "      <td>5.0</td>\n",
              "      <td>3.6</td>\n",
              "      <td>1.4</td>\n",
              "      <td>0.2</td>\n",
              "      <td>Iris-setosa</td>\n",
              "    </tr>\n",
              "  </tbody>\n",
              "</table>\n",
              "</div>\n",
              "    <div class=\"colab-df-buttons\">\n",
              "\n",
              "  <div class=\"colab-df-container\">\n",
              "    <button class=\"colab-df-convert\" onclick=\"convertToInteractive('df-a44d5103-6e11-4156-bb15-fdf36ce138de')\"\n",
              "            title=\"Convert this dataframe to an interactive table.\"\n",
              "            style=\"display:none;\">\n",
              "\n",
              "  <svg xmlns=\"http://www.w3.org/2000/svg\" height=\"24px\" viewBox=\"0 -960 960 960\">\n",
              "    <path d=\"M120-120v-720h720v720H120Zm60-500h600v-160H180v160Zm220 220h160v-160H400v160Zm0 220h160v-160H400v160ZM180-400h160v-160H180v160Zm440 0h160v-160H620v160ZM180-180h160v-160H180v160Zm440 0h160v-160H620v160Z\"/>\n",
              "  </svg>\n",
              "    </button>\n",
              "\n",
              "  <style>\n",
              "    .colab-df-container {\n",
              "      display:flex;\n",
              "      gap: 12px;\n",
              "    }\n",
              "\n",
              "    .colab-df-convert {\n",
              "      background-color: #E8F0FE;\n",
              "      border: none;\n",
              "      border-radius: 50%;\n",
              "      cursor: pointer;\n",
              "      display: none;\n",
              "      fill: #1967D2;\n",
              "      height: 32px;\n",
              "      padding: 0 0 0 0;\n",
              "      width: 32px;\n",
              "    }\n",
              "\n",
              "    .colab-df-convert:hover {\n",
              "      background-color: #E2EBFA;\n",
              "      box-shadow: 0px 1px 2px rgba(60, 64, 67, 0.3), 0px 1px 3px 1px rgba(60, 64, 67, 0.15);\n",
              "      fill: #174EA6;\n",
              "    }\n",
              "\n",
              "    .colab-df-buttons div {\n",
              "      margin-bottom: 4px;\n",
              "    }\n",
              "\n",
              "    [theme=dark] .colab-df-convert {\n",
              "      background-color: #3B4455;\n",
              "      fill: #D2E3FC;\n",
              "    }\n",
              "\n",
              "    [theme=dark] .colab-df-convert:hover {\n",
              "      background-color: #434B5C;\n",
              "      box-shadow: 0px 1px 3px 1px rgba(0, 0, 0, 0.15);\n",
              "      filter: drop-shadow(0px 1px 2px rgba(0, 0, 0, 0.3));\n",
              "      fill: #FFFFFF;\n",
              "    }\n",
              "  </style>\n",
              "\n",
              "    <script>\n",
              "      const buttonEl =\n",
              "        document.querySelector('#df-a44d5103-6e11-4156-bb15-fdf36ce138de button.colab-df-convert');\n",
              "      buttonEl.style.display =\n",
              "        google.colab.kernel.accessAllowed ? 'block' : 'none';\n",
              "\n",
              "      async function convertToInteractive(key) {\n",
              "        const element = document.querySelector('#df-a44d5103-6e11-4156-bb15-fdf36ce138de');\n",
              "        const dataTable =\n",
              "          await google.colab.kernel.invokeFunction('convertToInteractive',\n",
              "                                                    [key], {});\n",
              "        if (!dataTable) return;\n",
              "\n",
              "        const docLinkHtml = 'Like what you see? Visit the ' +\n",
              "          '<a target=\"_blank\" href=https://colab.research.google.com/notebooks/data_table.ipynb>data table notebook</a>'\n",
              "          + ' to learn more about interactive tables.';\n",
              "        element.innerHTML = '';\n",
              "        dataTable['output_type'] = 'display_data';\n",
              "        await google.colab.output.renderOutput(dataTable, element);\n",
              "        const docLink = document.createElement('div');\n",
              "        docLink.innerHTML = docLinkHtml;\n",
              "        element.appendChild(docLink);\n",
              "      }\n",
              "    </script>\n",
              "  </div>\n",
              "\n",
              "\n",
              "<div id=\"df-3c13af90-acdd-473a-8961-8e79a626fe60\">\n",
              "  <button class=\"colab-df-quickchart\" onclick=\"quickchart('df-3c13af90-acdd-473a-8961-8e79a626fe60')\"\n",
              "            title=\"Suggest charts.\"\n",
              "            style=\"display:none;\">\n",
              "\n",
              "<svg xmlns=\"http://www.w3.org/2000/svg\" height=\"24px\"viewBox=\"0 0 24 24\"\n",
              "     width=\"24px\">\n",
              "    <g>\n",
              "        <path d=\"M19 3H5c-1.1 0-2 .9-2 2v14c0 1.1.9 2 2 2h14c1.1 0 2-.9 2-2V5c0-1.1-.9-2-2-2zM9 17H7v-7h2v7zm4 0h-2V7h2v10zm4 0h-2v-4h2v4z\"/>\n",
              "    </g>\n",
              "</svg>\n",
              "  </button>\n",
              "\n",
              "<style>\n",
              "  .colab-df-quickchart {\n",
              "      --bg-color: #E8F0FE;\n",
              "      --fill-color: #1967D2;\n",
              "      --hover-bg-color: #E2EBFA;\n",
              "      --hover-fill-color: #174EA6;\n",
              "      --disabled-fill-color: #AAA;\n",
              "      --disabled-bg-color: #DDD;\n",
              "  }\n",
              "\n",
              "  [theme=dark] .colab-df-quickchart {\n",
              "      --bg-color: #3B4455;\n",
              "      --fill-color: #D2E3FC;\n",
              "      --hover-bg-color: #434B5C;\n",
              "      --hover-fill-color: #FFFFFF;\n",
              "      --disabled-bg-color: #3B4455;\n",
              "      --disabled-fill-color: #666;\n",
              "  }\n",
              "\n",
              "  .colab-df-quickchart {\n",
              "    background-color: var(--bg-color);\n",
              "    border: none;\n",
              "    border-radius: 50%;\n",
              "    cursor: pointer;\n",
              "    display: none;\n",
              "    fill: var(--fill-color);\n",
              "    height: 32px;\n",
              "    padding: 0;\n",
              "    width: 32px;\n",
              "  }\n",
              "\n",
              "  .colab-df-quickchart:hover {\n",
              "    background-color: var(--hover-bg-color);\n",
              "    box-shadow: 0 1px 2px rgba(60, 64, 67, 0.3), 0 1px 3px 1px rgba(60, 64, 67, 0.15);\n",
              "    fill: var(--button-hover-fill-color);\n",
              "  }\n",
              "\n",
              "  .colab-df-quickchart-complete:disabled,\n",
              "  .colab-df-quickchart-complete:disabled:hover {\n",
              "    background-color: var(--disabled-bg-color);\n",
              "    fill: var(--disabled-fill-color);\n",
              "    box-shadow: none;\n",
              "  }\n",
              "\n",
              "  .colab-df-spinner {\n",
              "    border: 2px solid var(--fill-color);\n",
              "    border-color: transparent;\n",
              "    border-bottom-color: var(--fill-color);\n",
              "    animation:\n",
              "      spin 1s steps(1) infinite;\n",
              "  }\n",
              "\n",
              "  @keyframes spin {\n",
              "    0% {\n",
              "      border-color: transparent;\n",
              "      border-bottom-color: var(--fill-color);\n",
              "      border-left-color: var(--fill-color);\n",
              "    }\n",
              "    20% {\n",
              "      border-color: transparent;\n",
              "      border-left-color: var(--fill-color);\n",
              "      border-top-color: var(--fill-color);\n",
              "    }\n",
              "    30% {\n",
              "      border-color: transparent;\n",
              "      border-left-color: var(--fill-color);\n",
              "      border-top-color: var(--fill-color);\n",
              "      border-right-color: var(--fill-color);\n",
              "    }\n",
              "    40% {\n",
              "      border-color: transparent;\n",
              "      border-right-color: var(--fill-color);\n",
              "      border-top-color: var(--fill-color);\n",
              "    }\n",
              "    60% {\n",
              "      border-color: transparent;\n",
              "      border-right-color: var(--fill-color);\n",
              "    }\n",
              "    80% {\n",
              "      border-color: transparent;\n",
              "      border-right-color: var(--fill-color);\n",
              "      border-bottom-color: var(--fill-color);\n",
              "    }\n",
              "    90% {\n",
              "      border-color: transparent;\n",
              "      border-bottom-color: var(--fill-color);\n",
              "    }\n",
              "  }\n",
              "</style>\n",
              "\n",
              "  <script>\n",
              "    async function quickchart(key) {\n",
              "      const quickchartButtonEl =\n",
              "        document.querySelector('#' + key + ' button');\n",
              "      quickchartButtonEl.disabled = true;  // To prevent multiple clicks.\n",
              "      quickchartButtonEl.classList.add('colab-df-spinner');\n",
              "      try {\n",
              "        const charts = await google.colab.kernel.invokeFunction(\n",
              "            'suggestCharts', [key], {});\n",
              "      } catch (error) {\n",
              "        console.error('Error during call to suggestCharts:', error);\n",
              "      }\n",
              "      quickchartButtonEl.classList.remove('colab-df-spinner');\n",
              "      quickchartButtonEl.classList.add('colab-df-quickchart-complete');\n",
              "    }\n",
              "    (() => {\n",
              "      let quickchartButtonEl =\n",
              "        document.querySelector('#df-3c13af90-acdd-473a-8961-8e79a626fe60 button');\n",
              "      quickchartButtonEl.style.display =\n",
              "        google.colab.kernel.accessAllowed ? 'block' : 'none';\n",
              "    })();\n",
              "  </script>\n",
              "</div>\n",
              "    </div>\n",
              "  </div>\n"
            ]
          },
          "metadata": {},
          "execution_count": 17
        }
      ]
    },
    {
      "cell_type": "code",
      "source": [
        "dataset.shape"
      ],
      "metadata": {
        "colab": {
          "base_uri": "https://localhost:8080/"
        },
        "id": "RoG_c126CPZn",
        "outputId": "29062ad4-80ae-4048-cbb7-c8af2af2c7f6"
      },
      "execution_count": 18,
      "outputs": [
        {
          "output_type": "execute_result",
          "data": {
            "text/plain": [
              "(150, 5)"
            ]
          },
          "metadata": {},
          "execution_count": 18
        }
      ]
    },
    {
      "cell_type": "code",
      "source": [
        "X = dataset.iloc[ : , :-1]\n",
        "y = dataset.iloc[ : , 4]"
      ],
      "metadata": {
        "id": "DWvtKfI_CTw7"
      },
      "execution_count": 19,
      "outputs": []
    },
    {
      "cell_type": "code",
      "source": [
        "import seaborn as sns\n",
        "sns.distplot(x)"
      ],
      "metadata": {
        "colab": {
          "base_uri": "https://localhost:8080/",
          "height": 638
        },
        "id": "TdDeJtdkC5OQ",
        "outputId": "e9db39e7-d489-4bfb-b89d-c79f44bcfb00"
      },
      "execution_count": 20,
      "outputs": [
        {
          "output_type": "stream",
          "name": "stderr",
          "text": [
            "<ipython-input-20-508099808626>:2: UserWarning: \n",
            "\n",
            "`distplot` is a deprecated function and will be removed in seaborn v0.14.0.\n",
            "\n",
            "Please adapt your code to use either `displot` (a figure-level function with\n",
            "similar flexibility) or `histplot` (an axes-level function for histograms).\n",
            "\n",
            "For a guide to updating your code to use the new functions, please see\n",
            "https://gist.github.com/mwaskom/de44147ed2974457ad6372750bbe5751\n",
            "\n",
            "  sns.distplot(x)\n"
          ]
        },
        {
          "output_type": "execute_result",
          "data": {
            "text/plain": [
              "<Axes: ylabel='Density'>"
            ]
          },
          "metadata": {},
          "execution_count": 20
        },
        {
          "output_type": "display_data",
          "data": {
            "text/plain": [
              "<Figure size 640x480 with 1 Axes>"
            ],
            "image/png": "[encoded data removed]"
          },
          "metadata": {}
        }
      ]
    },
    {
      "cell_type": "markdown",
      "source": [
        "**Feature Scaling**\n"
      ],
      "metadata": {
        "id": "Kw3IKZmlDDr9"
      }
    },
    {
      "cell_type": "code",
      "source": [
        "from sklearn.preprocessing import StandardScaler\n",
        "scaler = StandardScaler()\n",
        "train = scaler.fit_transform(X)"
      ],
      "metadata": {
        "id": "ZI-f7j_nDH4r"
      },
      "execution_count": 21,
      "outputs": []
    },
    {
      "cell_type": "code",
      "source": [
        "train"
      ],
      "metadata": {
        "colab": {
          "base_uri": "https://localhost:8080/"
        },
        "id": "inqnt62yDk2P",
        "outputId": "27351cd5-8e35-44f8-c31d-9c15afb76590"
      },
      "execution_count": 22,
      "outputs": [
        {
          "output_type": "execute_result",
          "data": {
            "text/plain": [
              "array([[-9.00681170e-01,  1.03205722e+00, -1.34127240e+00,\n",
              "        -1.31297673e+00],\n",
              "       [-1.14301691e+00, -1.24957601e-01, -1.34127240e+00,\n",
              "        -1.31297673e+00],\n",
              "       [-1.38535265e+00,  3.37848329e-01, -1.39813811e+00,\n",
              "        -1.31297673e+00],\n",
              "       [-1.50652052e+00,  1.06445364e-01, -1.28440670e+00,\n",
              "        -1.31297673e+00],\n",
              "       [-1.02184904e+00,  1.26346019e+00, -1.34127240e+00,\n",
              "        -1.31297673e+00],\n",
              "       [-5.37177559e-01,  1.95766909e+00, -1.17067529e+00,\n",
              "        -1.05003079e+00],\n",
              "       [-1.50652052e+00,  8.00654259e-01, -1.34127240e+00,\n",
              "        -1.18150376e+00],\n",
              "       [-1.02184904e+00,  8.00654259e-01, -1.28440670e+00,\n",
              "        -1.31297673e+00],\n",
              "       [-1.74885626e+00, -3.56360566e-01, -1.34127240e+00,\n",
              "        -1.31297673e+00],\n",
              "       [-1.14301691e+00,  1.06445364e-01, -1.28440670e+00,\n",
              "        -1.44444970e+00],\n",
              "       [-5.37177559e-01,  1.49486315e+00, -1.28440670e+00,\n",
              "        -1.31297673e+00],\n",
              "       [-1.26418478e+00,  8.00654259e-01, -1.22754100e+00,\n",
              "        -1.31297673e+00],\n",
              "       [-1.26418478e+00, -1.24957601e-01, -1.34127240e+00,\n",
              "        -1.44444970e+00],\n",
              "       [-1.87002413e+00, -1.24957601e-01, -1.51186952e+00,\n",
              "        -1.44444970e+00],\n",
              "       [-5.25060772e-02,  2.18907205e+00, -1.45500381e+00,\n",
              "        -1.31297673e+00],\n",
              "       [-1.73673948e-01,  3.11468391e+00, -1.28440670e+00,\n",
              "        -1.05003079e+00],\n",
              "       [-5.37177559e-01,  1.95766909e+00, -1.39813811e+00,\n",
              "        -1.05003079e+00],\n",
              "       [-9.00681170e-01,  1.03205722e+00, -1.34127240e+00,\n",
              "        -1.18150376e+00],\n",
              "       [-1.73673948e-01,  1.72626612e+00, -1.17067529e+00,\n",
              "        -1.18150376e+00],\n",
              "       [-9.00681170e-01,  1.72626612e+00, -1.28440670e+00,\n",
              "        -1.18150376e+00],\n",
              "       [-5.37177559e-01,  8.00654259e-01, -1.17067529e+00,\n",
              "        -1.31297673e+00],\n",
              "       [-9.00681170e-01,  1.49486315e+00, -1.28440670e+00,\n",
              "        -1.05003079e+00],\n",
              "       [-1.50652052e+00,  1.26346019e+00, -1.56873522e+00,\n",
              "        -1.31297673e+00],\n",
              "       [-9.00681170e-01,  5.69251294e-01, -1.17067529e+00,\n",
              "        -9.18557817e-01],\n",
              "       [-1.26418478e+00,  8.00654259e-01, -1.05694388e+00,\n",
              "        -1.31297673e+00],\n",
              "       [-1.02184904e+00, -1.24957601e-01, -1.22754100e+00,\n",
              "        -1.31297673e+00],\n",
              "       [-1.02184904e+00,  8.00654259e-01, -1.22754100e+00,\n",
              "        -1.05003079e+00],\n",
              "       [-7.79513300e-01,  1.03205722e+00, -1.28440670e+00,\n",
              "        -1.31297673e+00],\n",
              "       [-7.79513300e-01,  8.00654259e-01, -1.34127240e+00,\n",
              "        -1.31297673e+00],\n",
              "       [-1.38535265e+00,  3.37848329e-01, -1.22754100e+00,\n",
              "        -1.31297673e+00],\n",
              "       [-1.26418478e+00,  1.06445364e-01, -1.22754100e+00,\n",
              "        -1.31297673e+00],\n",
              "       [-5.37177559e-01,  8.00654259e-01, -1.28440670e+00,\n",
              "        -1.05003079e+00],\n",
              "       [-7.79513300e-01,  2.42047502e+00, -1.28440670e+00,\n",
              "        -1.44444970e+00],\n",
              "       [-4.16009689e-01,  2.65187798e+00, -1.34127240e+00,\n",
              "        -1.31297673e+00],\n",
              "       [-1.14301691e+00,  1.06445364e-01, -1.28440670e+00,\n",
              "        -1.44444970e+00],\n",
              "       [-1.02184904e+00,  3.37848329e-01, -1.45500381e+00,\n",
              "        -1.31297673e+00],\n",
              "       [-4.16009689e-01,  1.03205722e+00, -1.39813811e+00,\n",
              "        -1.31297673e+00],\n",
              "       [-1.14301691e+00,  1.06445364e-01, -1.28440670e+00,\n",
              "        -1.44444970e+00],\n",
              "       [-1.74885626e+00, -1.24957601e-01, -1.39813811e+00,\n",
              "        -1.31297673e+00],\n",
              "       [-9.00681170e-01,  8.00654259e-01, -1.28440670e+00,\n",
              "        -1.31297673e+00],\n",
              "       [-1.02184904e+00,  1.03205722e+00, -1.39813811e+00,\n",
              "        -1.18150376e+00],\n",
              "       [-1.62768839e+00, -1.74477836e+00, -1.39813811e+00,\n",
              "        -1.18150376e+00],\n",
              "       [-1.74885626e+00,  3.37848329e-01, -1.39813811e+00,\n",
              "        -1.31297673e+00],\n",
              "       [-1.02184904e+00,  1.03205722e+00, -1.22754100e+00,\n",
              "        -7.87084847e-01],\n",
              "       [-9.00681170e-01,  1.72626612e+00, -1.05694388e+00,\n",
              "        -1.05003079e+00],\n",
              "       [-1.26418478e+00, -1.24957601e-01, -1.34127240e+00,\n",
              "        -1.18150376e+00],\n",
              "       [-9.00681170e-01,  1.72626612e+00, -1.22754100e+00,\n",
              "        -1.31297673e+00],\n",
              "       [-1.50652052e+00,  3.37848329e-01, -1.34127240e+00,\n",
              "        -1.31297673e+00],\n",
              "       [-6.58345429e-01,  1.49486315e+00, -1.28440670e+00,\n",
              "        -1.31297673e+00],\n",
              "       [-1.02184904e+00,  5.69251294e-01, -1.34127240e+00,\n",
              "        -1.31297673e+00],\n",
              "       [ 1.40150837e+00,  3.37848329e-01,  5.35295827e-01,\n",
              "         2.64698913e-01],\n",
              "       [ 6.74501145e-01,  3.37848329e-01,  4.21564419e-01,\n",
              "         3.96171883e-01],\n",
              "       [ 1.28034050e+00,  1.06445364e-01,  6.49027235e-01,\n",
              "         3.96171883e-01],\n",
              "       [-4.16009689e-01, -1.74477836e+00,  1.37235899e-01,\n",
              "         1.33225943e-01],\n",
              "       [ 7.95669016e-01, -5.87763531e-01,  4.78430123e-01,\n",
              "         3.96171883e-01],\n",
              "       [-1.73673948e-01, -5.87763531e-01,  4.21564419e-01,\n",
              "         1.33225943e-01],\n",
              "       [ 5.53333275e-01,  5.69251294e-01,  5.35295827e-01,\n",
              "         5.27644853e-01],\n",
              "       [-1.14301691e+00, -1.51337539e+00, -2.60824029e-01,\n",
              "        -2.61192967e-01],\n",
              "       [ 9.16836886e-01, -3.56360566e-01,  4.78430123e-01,\n",
              "         1.33225943e-01],\n",
              "       [-7.79513300e-01, -8.19166497e-01,  8.03701950e-02,\n",
              "         2.64698913e-01],\n",
              "       [-1.02184904e+00, -2.43898725e+00, -1.47092621e-01,\n",
              "        -2.61192967e-01],\n",
              "       [ 6.86617933e-02, -1.24957601e-01,  2.50967307e-01,\n",
              "         3.96171883e-01],\n",
              "       [ 1.89829664e-01, -1.97618132e+00,  1.37235899e-01,\n",
              "        -2.61192967e-01],\n",
              "       [ 3.10997534e-01, -3.56360566e-01,  5.35295827e-01,\n",
              "         2.64698913e-01],\n",
              "       [-2.94841818e-01, -3.56360566e-01, -9.02269170e-02,\n",
              "         1.33225943e-01],\n",
              "       [ 1.03800476e+00,  1.06445364e-01,  3.64698715e-01,\n",
              "         2.64698913e-01],\n",
              "       [-2.94841818e-01, -1.24957601e-01,  4.21564419e-01,\n",
              "         3.96171883e-01],\n",
              "       [-5.25060772e-02, -8.19166497e-01,  1.94101603e-01,\n",
              "        -2.61192967e-01],\n",
              "       [ 4.32165405e-01, -1.97618132e+00,  4.21564419e-01,\n",
              "         3.96171883e-01],\n",
              "       [-2.94841818e-01, -1.28197243e+00,  8.03701950e-02,\n",
              "        -1.29719997e-01],\n",
              "       [ 6.86617933e-02,  3.37848329e-01,  5.92161531e-01,\n",
              "         7.90590793e-01],\n",
              "       [ 3.10997534e-01, -5.87763531e-01,  1.37235899e-01,\n",
              "         1.33225943e-01],\n",
              "       [ 5.53333275e-01, -1.28197243e+00,  6.49027235e-01,\n",
              "         3.96171883e-01],\n",
              "       [ 3.10997534e-01, -5.87763531e-01,  5.35295827e-01,\n",
              "         1.75297293e-03],\n",
              "       [ 6.74501145e-01, -3.56360566e-01,  3.07833011e-01,\n",
              "         1.33225943e-01],\n",
              "       [ 9.16836886e-01, -1.24957601e-01,  3.64698715e-01,\n",
              "         2.64698913e-01],\n",
              "       [ 1.15917263e+00, -5.87763531e-01,  5.92161531e-01,\n",
              "         2.64698913e-01],\n",
              "       [ 1.03800476e+00, -1.24957601e-01,  7.05892939e-01,\n",
              "         6.59117823e-01],\n",
              "       [ 1.89829664e-01, -3.56360566e-01,  4.21564419e-01,\n",
              "         3.96171883e-01],\n",
              "       [-1.73673948e-01, -1.05056946e+00, -1.47092621e-01,\n",
              "        -2.61192967e-01],\n",
              "       [-4.16009689e-01, -1.51337539e+00,  2.35044910e-02,\n",
              "        -1.29719997e-01],\n",
              "       [-4.16009689e-01, -1.51337539e+00, -3.33612130e-02,\n",
              "        -2.61192967e-01],\n",
              "       [-5.25060772e-02, -8.19166497e-01,  8.03701950e-02,\n",
              "         1.75297293e-03],\n",
              "       [ 1.89829664e-01, -8.19166497e-01,  7.62758643e-01,\n",
              "         5.27644853e-01],\n",
              "       [-5.37177559e-01, -1.24957601e-01,  4.21564419e-01,\n",
              "         3.96171883e-01],\n",
              "       [ 1.89829664e-01,  8.00654259e-01,  4.21564419e-01,\n",
              "         5.27644853e-01],\n",
              "       [ 1.03800476e+00,  1.06445364e-01,  5.35295827e-01,\n",
              "         3.96171883e-01],\n",
              "       [ 5.53333275e-01, -1.74477836e+00,  3.64698715e-01,\n",
              "         1.33225943e-01],\n",
              "       [-2.94841818e-01, -1.24957601e-01,  1.94101603e-01,\n",
              "         1.33225943e-01],\n",
              "       [-4.16009689e-01, -1.28197243e+00,  1.37235899e-01,\n",
              "         1.33225943e-01],\n",
              "       [-4.16009689e-01, -1.05056946e+00,  3.64698715e-01,\n",
              "         1.75297293e-03],\n",
              "       [ 3.10997534e-01, -1.24957601e-01,  4.78430123e-01,\n",
              "         2.64698913e-01],\n",
              "       [-5.25060772e-02, -1.05056946e+00,  1.37235899e-01,\n",
              "         1.75297293e-03],\n",
              "       [-1.02184904e+00, -1.74477836e+00, -2.60824029e-01,\n",
              "        -2.61192967e-01],\n",
              "       [-2.94841818e-01, -8.19166497e-01,  2.50967307e-01,\n",
              "         1.33225943e-01],\n",
              "       [-1.73673948e-01, -1.24957601e-01,  2.50967307e-01,\n",
              "         1.75297293e-03],\n",
              "       [-1.73673948e-01, -3.56360566e-01,  2.50967307e-01,\n",
              "         1.33225943e-01],\n",
              "       [ 4.32165405e-01, -3.56360566e-01,  3.07833011e-01,\n",
              "         1.33225943e-01],\n",
              "       [-9.00681170e-01, -1.28197243e+00, -4.31421141e-01,\n",
              "        -1.29719997e-01],\n",
              "       [-1.73673948e-01, -5.87763531e-01,  1.94101603e-01,\n",
              "         1.33225943e-01],\n",
              "       [ 5.53333275e-01,  5.69251294e-01,  1.27454998e+00,\n",
              "         1.71090158e+00],\n",
              "       [-5.25060772e-02, -8.19166497e-01,  7.62758643e-01,\n",
              "         9.22063763e-01],\n",
              "       [ 1.52267624e+00, -1.24957601e-01,  1.21768427e+00,\n",
              "         1.18500970e+00],\n",
              "       [ 5.53333275e-01, -3.56360566e-01,  1.04708716e+00,\n",
              "         7.90590793e-01],\n",
              "       [ 7.95669016e-01, -1.24957601e-01,  1.16081857e+00,\n",
              "         1.31648267e+00],\n",
              "       [ 2.12851559e+00, -1.24957601e-01,  1.61574420e+00,\n",
              "         1.18500970e+00],\n",
              "       [-1.14301691e+00, -1.28197243e+00,  4.21564419e-01,\n",
              "         6.59117823e-01],\n",
              "       [ 1.76501198e+00, -3.56360566e-01,  1.44514709e+00,\n",
              "         7.90590793e-01],\n",
              "       [ 1.03800476e+00, -1.28197243e+00,  1.16081857e+00,\n",
              "         7.90590793e-01],\n",
              "       [ 1.64384411e+00,  1.26346019e+00,  1.33141568e+00,\n",
              "         1.71090158e+00],\n",
              "       [ 7.95669016e-01,  3.37848329e-01,  7.62758643e-01,\n",
              "         1.05353673e+00],\n",
              "       [ 6.74501145e-01, -8.19166497e-01,  8.76490051e-01,\n",
              "         9.22063763e-01],\n",
              "       [ 1.15917263e+00, -1.24957601e-01,  9.90221459e-01,\n",
              "         1.18500970e+00],\n",
              "       [-1.73673948e-01, -1.28197243e+00,  7.05892939e-01,\n",
              "         1.05353673e+00],\n",
              "       [-5.25060772e-02, -5.87763531e-01,  7.62758643e-01,\n",
              "         1.57942861e+00],\n",
              "       [ 6.74501145e-01,  3.37848329e-01,  8.76490051e-01,\n",
              "         1.44795564e+00],\n",
              "       [ 7.95669016e-01, -1.24957601e-01,  9.90221459e-01,\n",
              "         7.90590793e-01],\n",
              "       [ 2.24968346e+00,  1.72626612e+00,  1.67260991e+00,\n",
              "         1.31648267e+00],\n",
              "       [ 2.24968346e+00, -1.05056946e+00,  1.78634131e+00,\n",
              "         1.44795564e+00],\n",
              "       [ 1.89829664e-01, -1.97618132e+00,  7.05892939e-01,\n",
              "         3.96171883e-01],\n",
              "       [ 1.28034050e+00,  3.37848329e-01,  1.10395287e+00,\n",
              "         1.44795564e+00],\n",
              "       [-2.94841818e-01, -5.87763531e-01,  6.49027235e-01,\n",
              "         1.05353673e+00],\n",
              "       [ 2.24968346e+00, -5.87763531e-01,  1.67260991e+00,\n",
              "         1.05353673e+00],\n",
              "       [ 5.53333275e-01, -8.19166497e-01,  6.49027235e-01,\n",
              "         7.90590793e-01],\n",
              "       [ 1.03800476e+00,  5.69251294e-01,  1.10395287e+00,\n",
              "         1.18500970e+00],\n",
              "       [ 1.64384411e+00,  3.37848329e-01,  1.27454998e+00,\n",
              "         7.90590793e-01],\n",
              "       [ 4.32165405e-01, -5.87763531e-01,  5.92161531e-01,\n",
              "         7.90590793e-01],\n",
              "       [ 3.10997534e-01, -1.24957601e-01,  6.49027235e-01,\n",
              "         7.90590793e-01],\n",
              "       [ 6.74501145e-01, -5.87763531e-01,  1.04708716e+00,\n",
              "         1.18500970e+00],\n",
              "       [ 1.64384411e+00, -1.24957601e-01,  1.16081857e+00,\n",
              "         5.27644853e-01],\n",
              "       [ 1.88617985e+00, -5.87763531e-01,  1.33141568e+00,\n",
              "         9.22063763e-01],\n",
              "       [ 2.49201920e+00,  1.72626612e+00,  1.50201279e+00,\n",
              "         1.05353673e+00],\n",
              "       [ 6.74501145e-01, -5.87763531e-01,  1.04708716e+00,\n",
              "         1.31648267e+00],\n",
              "       [ 5.53333275e-01, -5.87763531e-01,  7.62758643e-01,\n",
              "         3.96171883e-01],\n",
              "       [ 3.10997534e-01, -1.05056946e+00,  1.04708716e+00,\n",
              "         2.64698913e-01],\n",
              "       [ 2.24968346e+00, -1.24957601e-01,  1.33141568e+00,\n",
              "         1.44795564e+00],\n",
              "       [ 5.53333275e-01,  8.00654259e-01,  1.04708716e+00,\n",
              "         1.57942861e+00],\n",
              "       [ 6.74501145e-01,  1.06445364e-01,  9.90221459e-01,\n",
              "         7.90590793e-01],\n",
              "       [ 1.89829664e-01, -1.24957601e-01,  5.92161531e-01,\n",
              "         7.90590793e-01],\n",
              "       [ 1.28034050e+00,  1.06445364e-01,  9.33355755e-01,\n",
              "         1.18500970e+00],\n",
              "       [ 1.03800476e+00,  1.06445364e-01,  1.04708716e+00,\n",
              "         1.57942861e+00],\n",
              "       [ 1.28034050e+00,  1.06445364e-01,  7.62758643e-01,\n",
              "         1.44795564e+00],\n",
              "       [-5.25060772e-02, -8.19166497e-01,  7.62758643e-01,\n",
              "         9.22063763e-01],\n",
              "       [ 1.15917263e+00,  3.37848329e-01,  1.21768427e+00,\n",
              "         1.44795564e+00],\n",
              "       [ 1.03800476e+00,  5.69251294e-01,  1.10395287e+00,\n",
              "         1.71090158e+00],\n",
              "       [ 1.03800476e+00, -1.24957601e-01,  8.19624347e-01,\n",
              "         1.44795564e+00],\n",
              "       [ 5.53333275e-01, -1.28197243e+00,  7.05892939e-01,\n",
              "         9.22063763e-01],\n",
              "       [ 7.95669016e-01, -1.24957601e-01,  8.19624347e-01,\n",
              "         1.05353673e+00],\n",
              "       [ 4.32165405e-01,  8.00654259e-01,  9.33355755e-01,\n",
              "         1.44795564e+00],\n",
              "       [ 6.86617933e-02, -1.24957601e-01,  7.62758643e-01,\n",
              "         7.90590793e-01]])"
            ]
          },
          "metadata": {},
          "execution_count": 22
        }
      ]
    },
    {
      "cell_type": "code",
      "source": [
        "sns.distplot(train)"
      ],
      "metadata": {
        "colab": {
          "base_uri": "https://localhost:8080/",
          "height": 638
        },
        "id": "B29sRra5D_gs",
        "outputId": "f789c4d1-a244-48ab-dd89-2fe77bcf955c"
      },
      "execution_count": 23,
      "outputs": [
        {
          "output_type": "stream",
          "name": "stderr",
          "text": [
            "<ipython-input-23-66df391e5e1d>:1: UserWarning: \n",
            "\n",
            "`distplot` is a deprecated function and will be removed in seaborn v0.14.0.\n",
            "\n",
            "Please adapt your code to use either `displot` (a figure-level function with\n",
            "similar flexibility) or `histplot` (an axes-level function for histograms).\n",
            "\n",
            "For a guide to updating your code to use the new functions, please see\n",
            "https://gist.github.com/mwaskom/de44147ed2974457ad6372750bbe5751\n",
            "\n",
            "  sns.distplot(train)\n"
          ]
        },
        {
          "output_type": "execute_result",
          "data": {
            "text/plain": [
              "<Axes: ylabel='Density'>"
            ]
          },
          "metadata": {},
          "execution_count": 23
        },
        {
          "output_type": "display_data",
          "data": {
            "text/plain": [
              "<Figure size 640x480 with 1 Axes>"
            ],
            "image/png": "[encoded data removed]"
          },
          "metadata": {}
        }
      ]
    },
    {
      "cell_type": "code",
      "source": [
        "from sklearn.model_selection import train_test_split\n",
        "X_train,X_test,y_train,y_test = train_test_split(train,y,test_size=0.3)"
      ],
      "metadata": {
        "id": "YOQTnpXvEGKy"
      },
      "execution_count": 24,
      "outputs": []
    },
    {
      "cell_type": "code",
      "source": [
        "from sklearn.naive_bayes import GaussianNB\n",
        "gnb = GaussianNB()\n",
        "gnb.fit(X_train,y_train)"
      ],
      "metadata": {
        "colab": {
          "base_uri": "https://localhost:8080/",
          "height": 75
        },
        "id": "fcbTvVBCEgHa",
        "outputId": "4b2d0b9d-75a5-4020-9737-59ee0e90f54b"
      },
      "execution_count": 25,
      "outputs": [
        {
          "output_type": "execute_result",
          "data": {
            "text/plain": [
              "GaussianNB()"
            ],
            "text/html": [
              "<style>#sk-container-id-1 {color: black;background-color: white;}#sk-container-id-1 pre{padding: 0;}#sk-container-id-1 div.sk-toggleable {background-color: white;}#sk-container-id-1 label.sk-toggleable__label {cursor: pointer;display: block;width: 100%;margin-bottom: 0;padding: 0.3em;box-sizing: border-box;text-align: center;}#sk-container-id-1 label.sk-toggleable__label-arrow:before {content: \"▸\";float: left;margin-right: 0.25em;color: #696969;}#sk-container-id-1 label.sk-toggleable__label-arrow:hover:before {color: black;}#sk-container-id-1 div.sk-estimator:hover label.sk-toggleable__label-arrow:before {color: black;}#sk-container-id-1 div.sk-toggleable__content {max-height: 0;max-width: 0;overflow: hidden;text-align: left;background-color: #f0f8ff;}#sk-container-id-1 div.sk-toggleable__content pre {margin: 0.2em;color: black;border-radius: 0.25em;background-color: #f0f8ff;}#sk-container-id-1 input.sk-toggleable__control:checked~div.sk-toggleable__content {max-height: 200px;max-width: 100%;overflow: auto;}#sk-container-id-1 input.sk-toggleable__control:checked~label.sk-toggleable__label-arrow:before {content: \"▾\";}#sk-container-id-1 div.sk-estimator input.sk-toggleable__control:checked~label.sk-toggleable__label {background-color: #d4ebff;}#sk-container-id-1 div.sk-label input.sk-toggleable__control:checked~label.sk-toggleable__label {background-color: #d4ebff;}#sk-container-id-1 input.sk-hidden--visually {border: 0;clip: rect(1px 1px 1px 1px);clip: rect(1px, 1px, 1px, 1px);height: 1px;margin: -1px;overflow: hidden;padding: 0;position: absolute;width: 1px;}#sk-container-id-1 div.sk-estimator {font-family: monospace;background-color: #f0f8ff;border: 1px dotted black;border-radius: 0.25em;box-sizing: border-box;margin-bottom: 0.5em;}#sk-container-id-1 div.sk-estimator:hover {background-color: #d4ebff;}#sk-container-id-1 div.sk-parallel-item::after {content: \"\";width: 100%;border-bottom: 1px solid gray;flex-grow: 1;}#sk-container-id-1 div.sk-label:hover label.sk-toggleable__label {background-color: #d4ebff;}#sk-container-id-1 div.sk-serial::before {content: \"\";position: absolute;border-left: 1px solid gray;box-sizing: border-box;top: 0;bottom: 0;left: 50%;z-index: 0;}#sk-container-id-1 div.sk-serial {display: flex;flex-direction: column;align-items: center;background-color: white;padding-right: 0.2em;padding-left: 0.2em;position: relative;}#sk-container-id-1 div.sk-item {position: relative;z-index: 1;}#sk-container-id-1 div.sk-parallel {display: flex;align-items: stretch;justify-content: center;background-color: white;position: relative;}#sk-container-id-1 div.sk-item::before, #sk-container-id-1 div.sk-parallel-item::before {content: \"\";position: absolute;border-left: 1px solid gray;box-sizing: border-box;top: 0;bottom: 0;left: 50%;z-index: -1;}#sk-container-id-1 div.sk-parallel-item {display: flex;flex-direction: column;z-index: 1;position: relative;background-color: white;}#sk-container-id-1 div.sk-parallel-item:first-child::after {align-self: flex-end;width: 50%;}#sk-container-id-1 div.sk-parallel-item:last-child::after {align-self: flex-start;width: 50%;}#sk-container-id-1 div.sk-parallel-item:only-child::after {width: 0;}#sk-container-id-1 div.sk-dashed-wrapped {border: 1px dashed gray;margin: 0 0.4em 0.5em 0.4em;box-sizing: border-box;padding-bottom: 0.4em;background-color: white;}#sk-container-id-1 div.sk-label label {font-family: monospace;font-weight: bold;display: inline-block;line-height: 1.2em;}#sk-container-id-1 div.sk-label-container {text-align: center;}#sk-container-id-1 div.sk-container {/* jupyter's `normalize.less` sets `[hidden] { display: none; }` but bootstrap.min.css set `[hidden] { display: none !important; }` so we also need the `!important` here to be able to override the default hidden behavior on the sphinx rendered scikit-learn.org. See: https://github.com/scikit-learn/scikit-learn/issues/21755 */display: inline-block !important;position: relative;}#sk-container-id-1 div.sk-text-repr-fallback {display: none;}</style><div id=\"sk-container-id-1\" class=\"sk-top-container\"><div class=\"sk-text-repr-fallback\"><pre>GaussianNB()</pre><b>In a Jupyter environment, please rerun this cell to show the HTML representation or trust the notebook. <br />On GitHub, the HTML representation is unable to render, please try loading this page with nbviewer.org.</b></div><div class=\"sk-container\" hidden><div class=\"sk-item\"><div class=\"sk-estimator sk-toggleable\"><input class=\"sk-toggleable__control sk-hidden--visually\" id=\"sk-estimator-id-1\" type=\"checkbox\" checked><label for=\"sk-estimator-id-1\" class=\"sk-toggleable__label sk-toggleable__label-arrow\">GaussianNB</label><div class=\"sk-toggleable__content\"><pre>GaussianNB()</pre></div></div></div></div></div>"
            ]
          },
          "metadata": {},
          "execution_count": 25
        }
      ]
    },
    {
      "cell_type": "code",
      "source": [
        "pred = gnb.predict(X_test)"
      ],
      "metadata": {
        "id": "4qbt-lERFScy"
      },
      "execution_count": 26,
      "outputs": []
    },
    {
      "cell_type": "code",
      "source": [
        "print(gnb.score(X_test,y_test))"
      ],
      "metadata": {
        "colab": {
          "base_uri": "https://localhost:8080/"
        },
        "id": "ad9dJ6k1FYjo",
        "outputId": "1d8bfadf-aa4d-4612-f099-804bec358b00"
      },
      "execution_count": 27,
      "outputs": [
        {
          "output_type": "stream",
          "name": "stdout",
          "text": [
            "0.9333333333333333\n"
          ]
        }
      ]
    },
    {
      "cell_type": "code",
      "source": [
        "from sklearn.model_selection import train_test_split\n",
        "X_train,X_test,y_train,y_test = train_test_split(X,y,test_size=0.30)"
      ],
      "metadata": {
        "id": "V6FvzPRfFg0f"
      },
      "execution_count": 28,
      "outputs": []
    },
    {
      "cell_type": "code",
      "source": [],
      "metadata": {
        "id": "wLMRrgCgF4Cq"
      },
      "execution_count": 29,
      "outputs": []
    },
    {
      "cell_type": "code",
      "source": [
        "gnb2 = GaussianNB()\n",
        "gnb2.fit(X_train,y_train)\n"
      ],
      "metadata": {
        "colab": {
          "base_uri": "https://localhost:8080/",
          "height": 75
        },
        "id": "D5FtTemnGBLN",
        "outputId": "2e59a9d3-4207-41a3-c1d4-df1d37d042fb"
      },
      "execution_count": 30,
      "outputs": [
        {
          "output_type": "execute_result",
          "data": {
            "text/plain": [
              "GaussianNB()"
            ],
            "text/html": [
              "<style>#sk-container-id-2 {color: black;background-color: white;}#sk-container-id-2 pre{padding: 0;}#sk-container-id-2 div.sk-toggleable {background-color: white;}#sk-container-id-2 label.sk-toggleable__label {cursor: pointer;display: block;width: 100%;margin-bottom: 0;padding: 0.3em;box-sizing: border-box;text-align: center;}#sk-container-id-2 label.sk-toggleable__label-arrow:before {content: \"▸\";float: left;margin-right: 0.25em;color: #696969;}#sk-container-id-2 label.sk-toggleable__label-arrow:hover:before {color: black;}#sk-container-id-2 div.sk-estimator:hover label.sk-toggleable__label-arrow:before {color: black;}#sk-container-id-2 div.sk-toggleable__content {max-height: 0;max-width: 0;overflow: hidden;text-align: left;background-color: #f0f8ff;}#sk-container-id-2 div.sk-toggleable__content pre {margin: 0.2em;color: black;border-radius: 0.25em;background-color: #f0f8ff;}#sk-container-id-2 input.sk-toggleable__control:checked~div.sk-toggleable__content {max-height: 200px;max-width: 100%;overflow: auto;}#sk-container-id-2 input.sk-toggleable__control:checked~label.sk-toggleable__label-arrow:before {content: \"▾\";}#sk-container-id-2 div.sk-estimator input.sk-toggleable__control:checked~label.sk-toggleable__label {background-color: #d4ebff;}#sk-container-id-2 div.sk-label input.sk-toggleable__control:checked~label.sk-toggleable__label {background-color: #d4ebff;}#sk-container-id-2 input.sk-hidden--visually {border: 0;clip: rect(1px 1px 1px 1px);clip: rect(1px, 1px, 1px, 1px);height: 1px;margin: -1px;overflow: hidden;padding: 0;position: absolute;width: 1px;}#sk-container-id-2 div.sk-estimator {font-family: monospace;background-color: #f0f8ff;border: 1px dotted black;border-radius: 0.25em;box-sizing: border-box;margin-bottom: 0.5em;}#sk-container-id-2 div.sk-estimator:hover {background-color: #d4ebff;}#sk-container-id-2 div.sk-parallel-item::after {content: \"\";width: 100%;border-bottom: 1px solid gray;flex-grow: 1;}#sk-container-id-2 div.sk-label:hover label.sk-toggleable__label {background-color: #d4ebff;}#sk-container-id-2 div.sk-serial::before {content: \"\";position: absolute;border-left: 1px solid gray;box-sizing: border-box;top: 0;bottom: 0;left: 50%;z-index: 0;}#sk-container-id-2 div.sk-serial {display: flex;flex-direction: column;align-items: center;background-color: white;padding-right: 0.2em;padding-left: 0.2em;position: relative;}#sk-container-id-2 div.sk-item {position: relative;z-index: 1;}#sk-container-id-2 div.sk-parallel {display: flex;align-items: stretch;justify-content: center;background-color: white;position: relative;}#sk-container-id-2 div.sk-item::before, #sk-container-id-2 div.sk-parallel-item::before {content: \"\";position: absolute;border-left: 1px solid gray;box-sizing: border-box;top: 0;bottom: 0;left: 50%;z-index: -1;}#sk-container-id-2 div.sk-parallel-item {display: flex;flex-direction: column;z-index: 1;position: relative;background-color: white;}#sk-container-id-2 div.sk-parallel-item:first-child::after {align-self: flex-end;width: 50%;}#sk-container-id-2 div.sk-parallel-item:last-child::after {align-self: flex-start;width: 50%;}#sk-container-id-2 div.sk-parallel-item:only-child::after {width: 0;}#sk-container-id-2 div.sk-dashed-wrapped {border: 1px dashed gray;margin: 0 0.4em 0.5em 0.4em;box-sizing: border-box;padding-bottom: 0.4em;background-color: white;}#sk-container-id-2 div.sk-label label {font-family: monospace;font-weight: bold;display: inline-block;line-height: 1.2em;}#sk-container-id-2 div.sk-label-container {text-align: center;}#sk-container-id-2 div.sk-container {/* jupyter's `normalize.less` sets `[hidden] { display: none; }` but bootstrap.min.css set `[hidden] { display: none !important; }` so we also need the `!important` here to be able to override the default hidden behavior on the sphinx rendered scikit-learn.org. See: https://github.com/scikit-learn/scikit-learn/issues/21755 */display: inline-block !important;position: relative;}#sk-container-id-2 div.sk-text-repr-fallback {display: none;}</style><div id=\"sk-container-id-2\" class=\"sk-top-container\"><div class=\"sk-text-repr-fallback\"><pre>GaussianNB()</pre><b>In a Jupyter environment, please rerun this cell to show the HTML representation or trust the notebook. <br />On GitHub, the HTML representation is unable to render, please try loading this page with nbviewer.org.</b></div><div class=\"sk-container\" hidden><div class=\"sk-item\"><div class=\"sk-estimator sk-toggleable\"><input class=\"sk-toggleable__control sk-hidden--visually\" id=\"sk-estimator-id-2\" type=\"checkbox\" checked><label for=\"sk-estimator-id-2\" class=\"sk-toggleable__label sk-toggleable__label-arrow\">GaussianNB</label><div class=\"sk-toggleable__content\"><pre>GaussianNB()</pre></div></div></div></div></div>"
            ]
          },
          "metadata": {},
          "execution_count": 30
        }
      ]
    },
    {
      "cell_type": "code",
      "source": [
        "print(gnb2.score(X_test,y_test))"
      ],
      "metadata": {
        "colab": {
          "base_uri": "https://localhost:8080/"
        },
        "id": "R15Zjh9lGT_w",
        "outputId": "4154bc05-bd6b-40a8-c9db-ff4c2c0f13e5"
      },
      "execution_count": 31,
      "outputs": [
        {
          "output_type": "stream",
          "name": "stdout",
          "text": [
            "0.9777777777777777\n"
          ]
        }
      ]
    },
    {
      "cell_type": "markdown",
      "source": [
        "**Prediction and Evalutions**\n"
      ],
      "metadata": {
        "id": "Z9uZ8ToKGc5k"
      }
    },
    {
      "cell_type": "code",
      "source": [
        "from sklearn.metrics import classification_report,confusion_matrix\n",
        "print(confusion_matrix(y_test,pred))\n",
        "print(classification_report(y_test,pred))"
      ],
      "metadata": {
        "colab": {
          "base_uri": "https://localhost:8080/"
        },
        "id": "4a8zTvJZGhxJ",
        "outputId": "3377f660-a07f-4456-c395-68e1c70f8ae7"
      },
      "execution_count": 32,
      "outputs": [
        {
          "output_type": "stream",
          "name": "stdout",
          "text": [
            "[[6 5 5]\n",
            " [5 6 2]\n",
            " [4 5 7]]\n",
            "                 precision    recall  f1-score   support\n",
            "\n",
            "    Iris-setosa       0.40      0.38      0.39        16\n",
            "Iris-versicolor       0.38      0.46      0.41        13\n",
            " Iris-virginica       0.50      0.44      0.47        16\n",
            "\n",
            "       accuracy                           0.42        45\n",
            "      macro avg       0.42      0.42      0.42        45\n",
            "   weighted avg       0.43      0.42      0.42        45\n",
            "\n"
          ]
        }
      ]
    },
    {
      "cell_type": "code",
      "source": [],
      "metadata": {
        "id": "NZTtLbP-ILS2"
      },
      "execution_count": null,
      "outputs": []
    },
    {
      "cell_type": "code",
      "source": [
        "gnb.score(X_test,y_test)"
      ],
      "metadata": {
        "colab": {
          "base_uri": "https://localhost:8080/"
        },
        "id": "FXeAI4O2H0cS",
        "outputId": "2e2e78c0-f57a-4eda-8446-17faf6acfbcf"
      },
      "execution_count": 34,
      "outputs": [
        {
          "output_type": "stream",
          "name": "stderr",
          "text": [
            "/usr/local/lib/python3.10/dist-packages/sklearn/base.py:432: UserWarning: X has feature names, but GaussianNB was fitted without feature names\n",
            "  warnings.warn(\n"
          ]
        },
        {
          "output_type": "execute_result",
          "data": {
            "text/plain": [
              "0.35555555555555557"
            ]
          },
          "metadata": {},
          "execution_count": 34
        }
      ]
    }
  ]
}